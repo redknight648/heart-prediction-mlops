{
 "cells": [
  {
   "attachments": {},
   "cell_type": "markdown",
   "id": "92e48866",
   "metadata": {},
   "source": [
    "## Model Training"
   ]
  },
  {
   "attachments": {},
   "cell_type": "markdown",
   "id": "25791a74",
   "metadata": {},
   "source": [
    "\n",
    "## Importing Pandas, Numpy, Matplotlib, Seaborn and Warings Library."
   ]
  },
  {
   "cell_type": "code",
   "execution_count": 8,
   "id": "b080dfb2",
   "metadata": {},
   "outputs": [],
   "source": [
    "\n",
    "import warnings\n",
    "warnings.filterwarnings('ignore')\n",
    "\n",
    "import numpy as np # linear algebra\n",
    "import pandas as pd # data processing, CSV file I/O (e.g. pd.read_csv)\n",
    "import seaborn as sns\n",
    "import sklearn\n",
    "\n",
    "import matplotlib.pyplot as plt\n",
    "import plotly.express as px\n",
    "from plotly.subplots import make_subplots\n",
    "import plotly.graph_objects as go\n",
    "import plotly.figure_factory as ff\n",
    "\n",
    "\n",
    "from sklearn.model_selection import train_test_split\n",
    "from sklearn.model_selection import cross_val_score\n",
    "from sklearn.model_selection import StratifiedKFold\n",
    "from sklearn.model_selection import GridSearchCV\n",
    "\n",
    "from sklearn.metrics import accuracy_score, classification_report, roc_curve,precision_recall_curve, auc,confusion_matrix\n",
    "from sklearn.preprocessing import LabelEncoder\n",
    "from sklearn.linear_model import LogisticRegression\n",
    "from sklearn.tree import DecisionTreeClassifier\n",
    "from sklearn.ensemble import RandomForestClassifier\n",
    "from sklearn.ensemble import AdaBoostClassifier\n",
    "from sklearn.neighbors import KNeighborsClassifier\n",
    "from sklearn.discriminant_analysis import LinearDiscriminantAnalysis\n",
    "from sklearn.svm import SVC\n",
    "from sklearn.impute import KNNImputer\n",
    "\n",
    "from xgboost import XGBClassifier\n",
    "from imblearn.over_sampling import SMOTE\n",
    "\n",
    "# from catboost import CatBoostClassifier"
   ]
  },
  {
   "attachments": {},
   "cell_type": "markdown",
   "id": "e45079ad",
   "metadata": {},
   "source": [
    "## Import the CSV Data as Pandas DataFrame"
   ]
  },
  {
   "cell_type": "code",
   "execution_count": 10,
   "id": "e11c6255",
   "metadata": {},
   "outputs": [],
   "source": [
    "def read_data():\n",
    "    df = pd.read_csv('data/strokeprediction.csv')\n",
    "    df.head()\n",
    "    return df"
   ]
  },
  {
   "cell_type": "code",
   "execution_count": 11,
   "id": "39f7fb56",
   "metadata": {},
   "outputs": [],
   "source": [
    "df=read_data()"
   ]
  },
  {
   "attachments": {},
   "cell_type": "markdown",
   "id": "fbd32281",
   "metadata": {},
   "source": [
    "## Preparing X and Y variables"
   ]
  },
  {
   "cell_type": "code",
   "execution_count": 12,
   "id": "56d72fde",
   "metadata": {},
   "outputs": [],
   "source": [
    "X = df.drop(columns=['stroke','id'],axis=1)"
   ]
  },
  {
   "cell_type": "code",
   "execution_count": 13,
   "id": "cd613177",
   "metadata": {},
   "outputs": [
    {
     "data": {
      "text/html": [
       "<div>\n",
       "<style scoped>\n",
       "    .dataframe tbody tr th:only-of-type {\n",
       "        vertical-align: middle;\n",
       "    }\n",
       "\n",
       "    .dataframe tbody tr th {\n",
       "        vertical-align: top;\n",
       "    }\n",
       "\n",
       "    .dataframe thead th {\n",
       "        text-align: right;\n",
       "    }\n",
       "</style>\n",
       "<table border=\"1\" class=\"dataframe\">\n",
       "  <thead>\n",
       "    <tr style=\"text-align: right;\">\n",
       "      <th></th>\n",
       "      <th>gender</th>\n",
       "      <th>age</th>\n",
       "      <th>hypertension</th>\n",
       "      <th>heart_disease</th>\n",
       "      <th>ever_married</th>\n",
       "      <th>work_type</th>\n",
       "      <th>Residence_type</th>\n",
       "      <th>avg_glucose_level</th>\n",
       "      <th>bmi</th>\n",
       "      <th>smoking_status</th>\n",
       "    </tr>\n",
       "  </thead>\n",
       "  <tbody>\n",
       "    <tr>\n",
       "      <th>0</th>\n",
       "      <td>Male</td>\n",
       "      <td>67.0</td>\n",
       "      <td>0</td>\n",
       "      <td>1</td>\n",
       "      <td>Yes</td>\n",
       "      <td>Private</td>\n",
       "      <td>Urban</td>\n",
       "      <td>228.69</td>\n",
       "      <td>36.6</td>\n",
       "      <td>formerly smoked</td>\n",
       "    </tr>\n",
       "    <tr>\n",
       "      <th>1</th>\n",
       "      <td>Female</td>\n",
       "      <td>61.0</td>\n",
       "      <td>0</td>\n",
       "      <td>0</td>\n",
       "      <td>Yes</td>\n",
       "      <td>Self-employed</td>\n",
       "      <td>Rural</td>\n",
       "      <td>202.21</td>\n",
       "      <td>NaN</td>\n",
       "      <td>never smoked</td>\n",
       "    </tr>\n",
       "    <tr>\n",
       "      <th>2</th>\n",
       "      <td>Male</td>\n",
       "      <td>80.0</td>\n",
       "      <td>0</td>\n",
       "      <td>1</td>\n",
       "      <td>Yes</td>\n",
       "      <td>Private</td>\n",
       "      <td>Rural</td>\n",
       "      <td>105.92</td>\n",
       "      <td>32.5</td>\n",
       "      <td>never smoked</td>\n",
       "    </tr>\n",
       "    <tr>\n",
       "      <th>3</th>\n",
       "      <td>Female</td>\n",
       "      <td>49.0</td>\n",
       "      <td>0</td>\n",
       "      <td>0</td>\n",
       "      <td>Yes</td>\n",
       "      <td>Private</td>\n",
       "      <td>Urban</td>\n",
       "      <td>171.23</td>\n",
       "      <td>34.4</td>\n",
       "      <td>smokes</td>\n",
       "    </tr>\n",
       "    <tr>\n",
       "      <th>4</th>\n",
       "      <td>Female</td>\n",
       "      <td>79.0</td>\n",
       "      <td>1</td>\n",
       "      <td>0</td>\n",
       "      <td>Yes</td>\n",
       "      <td>Self-employed</td>\n",
       "      <td>Rural</td>\n",
       "      <td>174.12</td>\n",
       "      <td>24.0</td>\n",
       "      <td>never smoked</td>\n",
       "    </tr>\n",
       "  </tbody>\n",
       "</table>\n",
       "</div>"
      ],
      "text/plain": [
       "   gender   age  hypertension  heart_disease ever_married      work_type  \\\n",
       "0    Male  67.0             0              1          Yes        Private   \n",
       "1  Female  61.0             0              0          Yes  Self-employed   \n",
       "2    Male  80.0             0              1          Yes        Private   \n",
       "3  Female  49.0             0              0          Yes        Private   \n",
       "4  Female  79.0             1              0          Yes  Self-employed   \n",
       "\n",
       "  Residence_type  avg_glucose_level   bmi   smoking_status  \n",
       "0          Urban             228.69  36.6  formerly smoked  \n",
       "1          Rural             202.21   NaN     never smoked  \n",
       "2          Rural             105.92  32.5     never smoked  \n",
       "3          Urban             171.23  34.4           smokes  \n",
       "4          Rural             174.12  24.0     never smoked  "
      ]
     },
     "execution_count": 13,
     "metadata": {},
     "output_type": "execute_result"
    }
   ],
   "source": [
    "X.head()"
   ]
  },
  {
   "cell_type": "code",
   "execution_count": 14,
   "id": "f237ea14",
   "metadata": {},
   "outputs": [
    {
     "name": "stdout",
     "output_type": "stream",
     "text": [
      "Categories in 'gender' variable:      ['Male' 'Female' 'Other']\n",
      "Categories in 'Residence_type' variable:   ['Urban' 'Rural']\n",
      "Categories in 'smoking_status' variable: ['formerly smoked' 'never smoked' 'smokes' 'Unknown']\n",
      "Categories in 'work_type' variable:      ['Private' 'Self-employed' 'Govt_job' 'children' 'Never_worked']\n"
     ]
    }
   ],
   "source": [
    "print(\"Categories in 'gender' variable:     \",end=\" \" )\n",
    "print(df['gender'].unique())\n",
    "\n",
    "print(\"Categories in 'Residence_type' variable:  \",end=\" \")\n",
    "print(df['Residence_type'].unique())\n",
    "\n",
    "print(\"Categories in 'smoking_status' variable:\",end=\" \" )\n",
    "print(df['smoking_status'].unique())\n",
    "\n",
    "print(\"Categories in 'work_type' variable:     \",end=\" \" )\n",
    "print(df['work_type'].unique())\n"
   ]
  },
  {
   "cell_type": "code",
   "execution_count": 15,
   "id": "924b7f9d",
   "metadata": {},
   "outputs": [],
   "source": [
    "y = df['stroke']"
   ]
  },
  {
   "cell_type": "code",
   "execution_count": 16,
   "id": "ffc69816",
   "metadata": {},
   "outputs": [
    {
     "data": {
      "text/plain": [
       "0       1\n",
       "1       1\n",
       "2       1\n",
       "3       1\n",
       "4       1\n",
       "       ..\n",
       "5105    0\n",
       "5106    0\n",
       "5107    0\n",
       "5108    0\n",
       "5109    0\n",
       "Name: stroke, Length: 5110, dtype: int64"
      ]
     },
     "execution_count": 16,
     "metadata": {},
     "output_type": "execute_result"
    }
   ],
   "source": [
    "y"
   ]
  },
  {
   "cell_type": "code",
   "execution_count": 17,
   "id": "1e290fe3",
   "metadata": {},
   "outputs": [],
   "source": [
    "le = LabelEncoder()\n",
    "X = X.apply(le.fit_transform)"
   ]
  },
  {
   "cell_type": "code",
   "execution_count": 18,
   "id": "9c68f99a",
   "metadata": {},
   "outputs": [
    {
     "data": {
      "text/html": [
       "<div>\n",
       "<style scoped>\n",
       "    .dataframe tbody tr th:only-of-type {\n",
       "        vertical-align: middle;\n",
       "    }\n",
       "\n",
       "    .dataframe tbody tr th {\n",
       "        vertical-align: top;\n",
       "    }\n",
       "\n",
       "    .dataframe thead th {\n",
       "        text-align: right;\n",
       "    }\n",
       "</style>\n",
       "<table border=\"1\" class=\"dataframe\">\n",
       "  <thead>\n",
       "    <tr style=\"text-align: right;\">\n",
       "      <th></th>\n",
       "      <th>gender</th>\n",
       "      <th>age</th>\n",
       "      <th>hypertension</th>\n",
       "      <th>heart_disease</th>\n",
       "      <th>ever_married</th>\n",
       "      <th>work_type</th>\n",
       "      <th>Residence_type</th>\n",
       "      <th>avg_glucose_level</th>\n",
       "      <th>bmi</th>\n",
       "      <th>smoking_status</th>\n",
       "    </tr>\n",
       "  </thead>\n",
       "  <tbody>\n",
       "    <tr>\n",
       "      <th>0</th>\n",
       "      <td>1</td>\n",
       "      <td>88</td>\n",
       "      <td>0</td>\n",
       "      <td>1</td>\n",
       "      <td>1</td>\n",
       "      <td>2</td>\n",
       "      <td>1</td>\n",
       "      <td>3850</td>\n",
       "      <td>239</td>\n",
       "      <td>1</td>\n",
       "    </tr>\n",
       "    <tr>\n",
       "      <th>1</th>\n",
       "      <td>0</td>\n",
       "      <td>82</td>\n",
       "      <td>0</td>\n",
       "      <td>0</td>\n",
       "      <td>1</td>\n",
       "      <td>3</td>\n",
       "      <td>0</td>\n",
       "      <td>3588</td>\n",
       "      <td>418</td>\n",
       "      <td>2</td>\n",
       "    </tr>\n",
       "    <tr>\n",
       "      <th>2</th>\n",
       "      <td>1</td>\n",
       "      <td>101</td>\n",
       "      <td>0</td>\n",
       "      <td>1</td>\n",
       "      <td>1</td>\n",
       "      <td>2</td>\n",
       "      <td>0</td>\n",
       "      <td>2483</td>\n",
       "      <td>198</td>\n",
       "      <td>2</td>\n",
       "    </tr>\n",
       "    <tr>\n",
       "      <th>3</th>\n",
       "      <td>0</td>\n",
       "      <td>70</td>\n",
       "      <td>0</td>\n",
       "      <td>0</td>\n",
       "      <td>1</td>\n",
       "      <td>2</td>\n",
       "      <td>1</td>\n",
       "      <td>3385</td>\n",
       "      <td>217</td>\n",
       "      <td>3</td>\n",
       "    </tr>\n",
       "    <tr>\n",
       "      <th>4</th>\n",
       "      <td>0</td>\n",
       "      <td>100</td>\n",
       "      <td>1</td>\n",
       "      <td>0</td>\n",
       "      <td>1</td>\n",
       "      <td>3</td>\n",
       "      <td>0</td>\n",
       "      <td>3394</td>\n",
       "      <td>113</td>\n",
       "      <td>2</td>\n",
       "    </tr>\n",
       "    <tr>\n",
       "      <th>...</th>\n",
       "      <td>...</td>\n",
       "      <td>...</td>\n",
       "      <td>...</td>\n",
       "      <td>...</td>\n",
       "      <td>...</td>\n",
       "      <td>...</td>\n",
       "      <td>...</td>\n",
       "      <td>...</td>\n",
       "      <td>...</td>\n",
       "      <td>...</td>\n",
       "    </tr>\n",
       "    <tr>\n",
       "      <th>5105</th>\n",
       "      <td>0</td>\n",
       "      <td>101</td>\n",
       "      <td>1</td>\n",
       "      <td>0</td>\n",
       "      <td>1</td>\n",
       "      <td>2</td>\n",
       "      <td>1</td>\n",
       "      <td>1360</td>\n",
       "      <td>418</td>\n",
       "      <td>2</td>\n",
       "    </tr>\n",
       "    <tr>\n",
       "      <th>5106</th>\n",
       "      <td>0</td>\n",
       "      <td>102</td>\n",
       "      <td>0</td>\n",
       "      <td>0</td>\n",
       "      <td>1</td>\n",
       "      <td>3</td>\n",
       "      <td>1</td>\n",
       "      <td>3030</td>\n",
       "      <td>273</td>\n",
       "      <td>2</td>\n",
       "    </tr>\n",
       "    <tr>\n",
       "      <th>5107</th>\n",
       "      <td>0</td>\n",
       "      <td>56</td>\n",
       "      <td>0</td>\n",
       "      <td>0</td>\n",
       "      <td>1</td>\n",
       "      <td>3</td>\n",
       "      <td>0</td>\n",
       "      <td>1314</td>\n",
       "      <td>179</td>\n",
       "      <td>2</td>\n",
       "    </tr>\n",
       "    <tr>\n",
       "      <th>5108</th>\n",
       "      <td>1</td>\n",
       "      <td>72</td>\n",
       "      <td>0</td>\n",
       "      <td>0</td>\n",
       "      <td>1</td>\n",
       "      <td>2</td>\n",
       "      <td>0</td>\n",
       "      <td>3363</td>\n",
       "      <td>129</td>\n",
       "      <td>1</td>\n",
       "    </tr>\n",
       "    <tr>\n",
       "      <th>5109</th>\n",
       "      <td>0</td>\n",
       "      <td>65</td>\n",
       "      <td>0</td>\n",
       "      <td>0</td>\n",
       "      <td>1</td>\n",
       "      <td>0</td>\n",
       "      <td>1</td>\n",
       "      <td>1454</td>\n",
       "      <td>135</td>\n",
       "      <td>0</td>\n",
       "    </tr>\n",
       "  </tbody>\n",
       "</table>\n",
       "<p>5110 rows × 10 columns</p>\n",
       "</div>"
      ],
      "text/plain": [
       "      gender  age  hypertension  heart_disease  ever_married  work_type  \\\n",
       "0          1   88             0              1             1          2   \n",
       "1          0   82             0              0             1          3   \n",
       "2          1  101             0              1             1          2   \n",
       "3          0   70             0              0             1          2   \n",
       "4          0  100             1              0             1          3   \n",
       "...      ...  ...           ...            ...           ...        ...   \n",
       "5105       0  101             1              0             1          2   \n",
       "5106       0  102             0              0             1          3   \n",
       "5107       0   56             0              0             1          3   \n",
       "5108       1   72             0              0             1          2   \n",
       "5109       0   65             0              0             1          0   \n",
       "\n",
       "      Residence_type  avg_glucose_level  bmi  smoking_status  \n",
       "0                  1               3850  239               1  \n",
       "1                  0               3588  418               2  \n",
       "2                  0               2483  198               2  \n",
       "3                  1               3385  217               3  \n",
       "4                  0               3394  113               2  \n",
       "...              ...                ...  ...             ...  \n",
       "5105               1               1360  418               2  \n",
       "5106               1               3030  273               2  \n",
       "5107               0               1314  179               2  \n",
       "5108               0               3363  129               1  \n",
       "5109               1               1454  135               0  \n",
       "\n",
       "[5110 rows x 10 columns]"
      ]
     },
     "execution_count": 18,
     "metadata": {},
     "output_type": "execute_result"
    }
   ],
   "source": [
    "X"
   ]
  },
  {
   "cell_type": "code",
   "execution_count": 19,
   "id": "72459f1d",
   "metadata": {},
   "outputs": [
    {
     "data": {
      "text/plain": [
       "(5110, 10)"
      ]
     },
     "execution_count": 19,
     "metadata": {},
     "output_type": "execute_result"
    }
   ],
   "source": [
    "X.shape"
   ]
  },
  {
   "cell_type": "code",
   "execution_count": 20,
   "id": "666cc87f",
   "metadata": {},
   "outputs": [
    {
     "data": {
      "text/plain": [
       "array([[1.000e+00, 8.800e+01, 0.000e+00, ..., 3.850e+03, 2.390e+02,\n",
       "        1.000e+00],\n",
       "       [0.000e+00, 8.200e+01, 0.000e+00, ..., 3.588e+03, 4.180e+02,\n",
       "        2.000e+00],\n",
       "       [1.000e+00, 1.010e+02, 0.000e+00, ..., 2.483e+03, 1.980e+02,\n",
       "        2.000e+00],\n",
       "       ...,\n",
       "       [0.000e+00, 5.600e+01, 0.000e+00, ..., 1.314e+03, 1.790e+02,\n",
       "        2.000e+00],\n",
       "       [1.000e+00, 7.200e+01, 0.000e+00, ..., 3.363e+03, 1.290e+02,\n",
       "        1.000e+00],\n",
       "       [0.000e+00, 6.500e+01, 0.000e+00, ..., 1.454e+03, 1.350e+02,\n",
       "        0.000e+00]])"
      ]
     },
     "execution_count": 20,
     "metadata": {},
     "output_type": "execute_result"
    }
   ],
   "source": [
    "#removing null values\n",
    "imputer = KNNImputer(n_neighbors=4, weights=\"uniform\")\n",
    "imputer.fit_transform(X)"
   ]
  },
  {
   "cell_type": "code",
   "execution_count": 21,
   "id": "a5ab5d2b",
   "metadata": {},
   "outputs": [
    {
     "data": {
      "text/plain": [
       "gender               0\n",
       "age                  0\n",
       "hypertension         0\n",
       "heart_disease        0\n",
       "ever_married         0\n",
       "work_type            0\n",
       "Residence_type       0\n",
       "avg_glucose_level    0\n",
       "bmi                  0\n",
       "smoking_status       0\n",
       "dtype: int64"
      ]
     },
     "execution_count": 21,
     "metadata": {},
     "output_type": "execute_result"
    }
   ],
   "source": [
    "X.isna().sum()"
   ]
  },
  {
   "attachments": {},
   "cell_type": "markdown",
   "id": "6b486ee7",
   "metadata": {},
   "source": [
    "## Train test split"
   ]
  },
  {
   "cell_type": "code",
   "execution_count": 22,
   "id": "ed5c4e99",
   "metadata": {},
   "outputs": [],
   "source": [
    "# separate dataset into train and test\n",
    "def sllit_data(X,y):\n",
    "    x_train,x_test,y_train,y_test = train_test_split(X,y,test_size=0.2,random_state=23)\n",
    "    sm = SMOTE()\n",
    "    X_res, y_res = sm.fit_resample(x_train,y_train)\n",
    "    return X_res,y_res,x_train,x_test,y_train,y_test"
   ]
  },
  {
   "cell_type": "code",
   "execution_count": 23,
   "id": "fce59f4f",
   "metadata": {},
   "outputs": [],
   "source": [
    "X_res,y_res,x_train,x_test,y_train,y_test=sllit_data(X,y)"
   ]
  },
  {
   "attachments": {},
   "cell_type": "markdown",
   "id": "4cd80317",
   "metadata": {},
   "source": [
    "## Create an Evaluate Function to give all metrics after model Training"
   ]
  },
  {
   "cell_type": "code",
   "execution_count": 33,
   "id": "8c247bd0",
   "metadata": {},
   "outputs": [],
   "source": [
    "def evaluate_model(true, predicted):\n",
    "    mae = mean_absolute_error(true, predicted)\n",
    "    mse = mean_squared_error(true, predicted)\n",
    "    rmse = np.sqrt(mean_squared_error(true, predicted))\n",
    "    r2_square = r2_score(true, predicted)\n",
    "    return mae, rmse, r2_square"
   ]
  },
  {
   "attachments": {},
   "cell_type": "markdown",
   "id": "f5bb8960",
   "metadata": {},
   "source": [
    "## Compare Models"
   ]
  },
  {
   "cell_type": "code",
   "execution_count": 33,
   "id": "79ccb8e7",
   "metadata": {
    "scrolled": false
   },
   "outputs": [],
   "source": [
    "def comapare_model(X_res,y_res,x_train,x_test,y_train,y_test):  \n",
    "    models = {\n",
    "        \"Logistic Regression\": LogisticRegression(),\n",
    "        \"Random Forest Classifier\": RandomForestClassifier(),\n",
    "        \"KNearest Neighbor\": KNeighborsClassifier(),\n",
    "        \"Decision Tree \": DecisionTreeClassifier(),\n",
    "        \"Random Forest Classifier\": RandomForestClassifier(),\n",
    "        \"XGBClassifier\": XGBClassifier(), \n",
    "        \"AdaBoost Classifier\": AdaBoostClassifier(),\n",
    "        \"SVM\" : SVC(),\n",
    "    }\n",
    "    model_list = []\n",
    "    acc =[]\n",
    "\n",
    "    for i in range(len(list(models))):\n",
    "        model = list(models.values())[i]\n",
    "        model.fit(X_res, y_res) # Train model\n",
    "\n",
    "        # Make predictions\n",
    "        y_train_pred = model.predict(X_res)\n",
    "        y_test_pred = model.predict(x_test)\n",
    "        \n",
    "        print(list(models.keys())[i])\n",
    "        print('Validation Acuuracy: ',accuracy_score(y_test,model.predict(x_test)))\n",
    "        print('Training Accuracy: ',accuracy_score(y_train,model.predict(x_train)))\n",
    "        print('############################################')\n",
    "\n",
    "        \n",
    "        # print(list(models.keys())[i])\n",
    "        model_list.append(list(models.keys())[i])\n",
    "        \n",
    "        # print('Model performance for Training set')\n",
    "        # print(\"- Root Mean Squared Error: {:.4f}\".format(model_train_rmse))\n",
    "        # print(\"- Mean Absolute Error: {:.4f}\".format(model_train_mae))\n",
    "        # print(\"- R2 Score: {:.4f}\".format(model_train_r2))\n",
    "\n",
    "        # print('----------------------------------')\n",
    "        \n",
    "        # print('Model performance for Test set')\n",
    "        # print(\"- Root Mean Squared Error: {:.4f}\".format(model_test_rmse))\n",
    "        # print(\"- Mean Absolute Error: {:.4f}\".format(model_test_mae))\n",
    "        # print(\"- R2 Score: {:.4f}\".format(model_test_r2))\n",
    "        acc.append(accuracy_score(y_test,model.predict(x_test)))\n",
    "        \n",
    "        # print('='*35)\n",
    "        print('\\n')\n",
    "        concatenate(model_list,acc)\n",
    "        "
   ]
  },
  {
   "attachments": {},
   "cell_type": "markdown",
   "id": "06480b5a",
   "metadata": {},
   "source": [
    "## Results"
   ]
  },
  {
   "cell_type": "code",
   "execution_count": 34,
   "id": "e0159e5f",
   "metadata": {},
   "outputs": [],
   "source": [
    "def concatenate(model_list,acc):\n",
    "    print(pd.DataFrame(list(zip(model_list, acc)), columns=['Model Name', 'Accuracy']).sort_values(by=[\"Accuracy\"],ascending=False))"
   ]
  },
  {
   "cell_type": "code",
   "execution_count": 35,
   "id": "5a2e2357",
   "metadata": {},
   "outputs": [
    {
     "name": "stdout",
     "output_type": "stream",
     "text": [
      "Logistic Regression\n",
      "Validation Acuuracy:  0.723091976516634\n",
      "Training Accuracy:  0.7377690802348337\n",
      "############################################\n",
      "\n",
      "\n",
      "            Model Name  Accuracy\n",
      "0  Logistic Regression  0.723092\n",
      "Random Forest Classifier\n",
      "Validation Acuuracy:  0.8610567514677103\n",
      "Training Accuracy:  1.0\n",
      "############################################\n",
      "\n",
      "\n",
      "                 Model Name  Accuracy\n",
      "1  Random Forest Classifier  0.861057\n",
      "0       Logistic Regression  0.723092\n",
      "KNearest Neighbor\n",
      "Validation Acuuracy:  0.7426614481409002\n",
      "Training Accuracy:  0.8336594911937377\n",
      "############################################\n",
      "\n",
      "\n",
      "                 Model Name  Accuracy\n",
      "1  Random Forest Classifier  0.861057\n",
      "2         KNearest Neighbor  0.742661\n",
      "0       Logistic Regression  0.723092\n",
      "Decision Tree \n",
      "Validation Acuuracy:  0.8463796477495108\n",
      "Training Accuracy:  1.0\n",
      "############################################\n",
      "\n",
      "\n",
      "                 Model Name  Accuracy\n",
      "1  Random Forest Classifier  0.861057\n",
      "3            Decision Tree   0.846380\n",
      "2         KNearest Neighbor  0.742661\n",
      "0       Logistic Regression  0.723092\n",
      "XGBClassifier\n",
      "Validation Acuuracy:  0.8816046966731899\n",
      "Training Accuracy:  0.9870352250489237\n",
      "############################################\n",
      "\n",
      "\n",
      "                 Model Name  Accuracy\n",
      "4             XGBClassifier  0.881605\n",
      "1  Random Forest Classifier  0.861057\n",
      "3            Decision Tree   0.846380\n",
      "2         KNearest Neighbor  0.742661\n",
      "0       Logistic Regression  0.723092\n",
      "AdaBoost Classifier\n",
      "Validation Acuuracy:  0.7798434442270059\n",
      "Training Accuracy:  0.7981898238747553\n",
      "############################################\n",
      "\n",
      "\n",
      "                 Model Name  Accuracy\n",
      "4             XGBClassifier  0.881605\n",
      "1  Random Forest Classifier  0.861057\n",
      "3            Decision Tree   0.846380\n",
      "5       AdaBoost Classifier  0.779843\n",
      "2         KNearest Neighbor  0.742661\n",
      "0       Logistic Regression  0.723092\n",
      "SVM\n",
      "Validation Acuuracy:  0.723091976516634\n",
      "Training Accuracy:  0.7446183953033269\n",
      "############################################\n",
      "\n",
      "\n",
      "                 Model Name  Accuracy\n",
      "4             XGBClassifier  0.881605\n",
      "1  Random Forest Classifier  0.861057\n",
      "3            Decision Tree   0.846380\n",
      "5       AdaBoost Classifier  0.779843\n",
      "2         KNearest Neighbor  0.742661\n",
      "0       Logistic Regression  0.723092\n",
      "6                       SVM  0.723092\n"
     ]
    }
   ],
   "source": [
    "comapare_model(X_res,y_res,x_train,x_test,y_train,y_test)"
   ]
  },
  {
   "attachments": {},
   "cell_type": "markdown",
   "id": "357a7c1c",
   "metadata": {},
   "source": [
    "## XG BOOST"
   ]
  },
  {
   "attachments": {},
   "cell_type": "markdown",
   "id": "1d31453e",
   "metadata": {},
   "source": [
    "## Model Training and Testing"
   ]
  },
  {
   "cell_type": "code",
   "execution_count": 38,
   "id": "e0dd0b9a",
   "metadata": {},
   "outputs": [],
   "source": [
    "def train_model(x_train,y_train,x_test,y_test):\n",
    "    model_xgb = XGBClassifier()\n",
    "    model_xgb.fit(x_train,y_train)\n",
    "    y_pred=model_xgb.predict(x_test)\n",
    "    pred_df=pd.DataFrame({'Actual Value':y_test,'Predicted Value':y_pred})\n",
    "    print(\"Confusion matrix\",confusion_matrix(y_test,y_pred))\n",
    "    print(\"Accuracy\",accuracy_score(y_test,y_pred))\n",
    "    return pred_df"
   ]
  },
  {
   "attachments": {},
   "cell_type": "markdown",
   "id": "79c2fe28",
   "metadata": {},
   "source": [
    "## Actual and Predicted Values"
   ]
  },
  {
   "cell_type": "code",
   "execution_count": 39,
   "id": "067905e4",
   "metadata": {},
   "outputs": [
    {
     "name": "stdout",
     "output_type": "stream",
     "text": [
      "Confusion matrix [[958   9]\n",
      " [ 50   5]]\n",
      "Accuracy 0.9422700587084148\n"
     ]
    },
    {
     "data": {
      "text/html": [
       "<div>\n",
       "<style scoped>\n",
       "    .dataframe tbody tr th:only-of-type {\n",
       "        vertical-align: middle;\n",
       "    }\n",
       "\n",
       "    .dataframe tbody tr th {\n",
       "        vertical-align: top;\n",
       "    }\n",
       "\n",
       "    .dataframe thead th {\n",
       "        text-align: right;\n",
       "    }\n",
       "</style>\n",
       "<table border=\"1\" class=\"dataframe\">\n",
       "  <thead>\n",
       "    <tr style=\"text-align: right;\">\n",
       "      <th></th>\n",
       "      <th>Actual Value</th>\n",
       "      <th>Predicted Value</th>\n",
       "    </tr>\n",
       "  </thead>\n",
       "  <tbody>\n",
       "    <tr>\n",
       "      <th>4893</th>\n",
       "      <td>0</td>\n",
       "      <td>0</td>\n",
       "    </tr>\n",
       "    <tr>\n",
       "      <th>4819</th>\n",
       "      <td>0</td>\n",
       "      <td>0</td>\n",
       "    </tr>\n",
       "    <tr>\n",
       "      <th>2732</th>\n",
       "      <td>0</td>\n",
       "      <td>0</td>\n",
       "    </tr>\n",
       "    <tr>\n",
       "      <th>1413</th>\n",
       "      <td>0</td>\n",
       "      <td>0</td>\n",
       "    </tr>\n",
       "    <tr>\n",
       "      <th>3875</th>\n",
       "      <td>0</td>\n",
       "      <td>0</td>\n",
       "    </tr>\n",
       "    <tr>\n",
       "      <th>...</th>\n",
       "      <td>...</td>\n",
       "      <td>...</td>\n",
       "    </tr>\n",
       "    <tr>\n",
       "      <th>330</th>\n",
       "      <td>0</td>\n",
       "      <td>0</td>\n",
       "    </tr>\n",
       "    <tr>\n",
       "      <th>2960</th>\n",
       "      <td>0</td>\n",
       "      <td>0</td>\n",
       "    </tr>\n",
       "    <tr>\n",
       "      <th>2120</th>\n",
       "      <td>0</td>\n",
       "      <td>0</td>\n",
       "    </tr>\n",
       "    <tr>\n",
       "      <th>744</th>\n",
       "      <td>0</td>\n",
       "      <td>0</td>\n",
       "    </tr>\n",
       "    <tr>\n",
       "      <th>501</th>\n",
       "      <td>0</td>\n",
       "      <td>0</td>\n",
       "    </tr>\n",
       "  </tbody>\n",
       "</table>\n",
       "<p>1022 rows × 2 columns</p>\n",
       "</div>"
      ],
      "text/plain": [
       "      Actual Value  Predicted Value\n",
       "4893             0                0\n",
       "4819             0                0\n",
       "2732             0                0\n",
       "1413             0                0\n",
       "3875             0                0\n",
       "...            ...              ...\n",
       "330              0                0\n",
       "2960             0                0\n",
       "2120             0                0\n",
       "744              0                0\n",
       "501              0                0\n",
       "\n",
       "[1022 rows x 2 columns]"
      ]
     },
     "execution_count": 39,
     "metadata": {},
     "output_type": "execute_result"
    }
   ],
   "source": [
    "pred_df=train_model(x_train,y_train,x_test,y_test)\n",
    "pred_df"
   ]
  },
  {
   "cell_type": "code",
   "execution_count": null,
   "id": "00f5e046",
   "metadata": {},
   "outputs": [],
   "source": []
  }
 ],
 "metadata": {
  "kernelspec": {
   "display_name": "Python 3 (ipykernel)",
   "language": "python",
   "name": "python3"
  },
  "language_info": {
   "codemirror_mode": {
    "name": "ipython",
    "version": 3
   },
   "file_extension": ".py",
   "mimetype": "text/x-python",
   "name": "python",
   "nbconvert_exporter": "python",
   "pygments_lexer": "ipython3",
   "version": "3.8.0"
  }
 },
 "nbformat": 4,
 "nbformat_minor": 5
}
